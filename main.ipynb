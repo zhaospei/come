{
 "cells": [
  {
   "cell_type": "code",
   "execution_count": null,
   "metadata": {},
   "outputs": [],
   "source": [
    "read_example_dict = {\n",
    "        'summarize': read_summarize_examples,\n",
    "        'refine': read_refine_examples,\n",
    "        'translate': read_translate_examples,\n",
    "        'concode': read_concode_examples,\n",
    "        'clone': read_clone_examples,\n",
    "        'defect': read_defect_examples,\n",
    "        'jit': read_jit_examples,\n",
    "    }\n",
    "\n",
    "print(read_example_dict['summarize']('data/summarize/cpp/train.jsonl', -1))"
   ]
  }
 ],
 "metadata": {
  "kernelspec": {
   "display_name": "base",
   "language": "python",
   "name": "python3"
  },
  "language_info": {
   "name": "python",
   "version": "3.11.3"
  },
  "orig_nbformat": 4
 },
 "nbformat": 4,
 "nbformat_minor": 2
}
